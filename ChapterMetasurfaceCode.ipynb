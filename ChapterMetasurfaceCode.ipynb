{
 "cells": [
  {
   "cell_type": "markdown",
   "metadata": {},
   "source": [
    "# Application to Metasurfaces and Lenses\n",
    "\n"
   ]
  },
  {
   "cell_type": "code",
   "execution_count": 1,
   "metadata": {},
   "outputs": [],
   "source": [
    "from scipy.optimize import curve_fit\n",
    "import numpy as np\n",
    "import matplotlib.pyplot as plt\n",
    "from numpy import pi, sin, cos, exp, tan, log,log10\n",
    "from mplcursors import cursor  # separate package must be installed\n",
    "\n",
    "from bookfuncs.simuParams import  SimuParam\n",
    "from bookfuncs.plotfunc import plot1DTparametric,plot1DS,plot1DSparametric,S1d,plot1DSparametricUwrap,plot1DSparametricdB\n"
   ]
  },
  {
   "cell_type": "code",
   "execution_count": 17,
   "metadata": {},
   "outputs": [
    {
     "data": {
      "text/plain": [
       "4.3419543559448245e-14"
      ]
     },
     "execution_count": 17,
     "metadata": {},
     "output_type": "execute_result"
    }
   ],
   "source": [
    "#https://community.altair.com/discussion/33258/a-metamaterial-inspired-single-split-ring-resonator-for-sensing-applications-a-practical-design-approach#:~:text=Split%20ring%20resonators%20(SRR)%20consists%20of%20two,can%20be%20represented%20by%20the%20following%20equation.\n",
    "\n",
    "\n",
    "R=1e-3\n",
    "w=0.6e-3\n",
    "gt=w\n",
    "h=w\n",
    "Lsplitring=4*1e-7*(R+w/2)*(log(8*(R+w/2)/(h+w))-0.5)\n",
    "Lsplitring\n",
    "Cring=2*8.85e-12*h/pi*log(4*(R)/gt)\n",
    "Cring\n",
    "Csplit=8.85e-12*(w*h/gt+2*pi*h/log(2.4*h/w))\n",
    "Csplit"
   ]
  },
  {
   "cell_type": "code",
   "execution_count": 18,
   "metadata": {},
   "outputs": [
    {
     "data": {
      "text/plain": [
       "6.413121133469128e-15"
      ]
     },
     "execution_count": 18,
     "metadata": {},
     "output_type": "execute_result"
    }
   ],
   "source": [
    "Cring"
   ]
  }
 ],
 "metadata": {
  "kernelspec": {
   "display_name": "base",
   "language": "python",
   "name": "python3"
  },
  "language_info": {
   "codemirror_mode": {
    "name": "ipython",
    "version": 3
   },
   "file_extension": ".py",
   "mimetype": "text/x-python",
   "name": "python",
   "nbconvert_exporter": "python",
   "pygments_lexer": "ipython3",
   "version": "3.12.7"
  }
 },
 "nbformat": 4,
 "nbformat_minor": 2
}
