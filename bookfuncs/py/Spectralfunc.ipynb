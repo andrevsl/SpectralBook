{
 "cells": [
  {
   "cell_type": "code",
   "execution_count": 1,
   "metadata": {
    "id": "KI1ai_GL7a3n"
   },
   "outputs": [],
   "source": [
    "## Fourier\n",
    "import numpy as np\n",
    "from numpy import sin, exp, cos, log10, pi,angle\n",
    "import matplotlib.pyplot as plt\n",
    "\n",
    "# Nfft=1025\n",
    "def S1d(y,Nfft,Fs):\n",
    "    yf={'S':[],'f':[]}\n",
    "    yf['S']=np.fft.fftshift(np.fft.fft(y,Nfft))\n",
    "    yf['f']=Fs/2*np.linspace(-1,1,Nfft)\n",
    "    return yf\n",
    "#yf=S1d(y,Nfft,Fs)"
   ]
  },
  {
   "cell_type": "code",
   "execution_count": 2,
   "metadata": {
    "id": "v1kC08oLyQkK"
   },
   "outputs": [],
   "source": [
    "\n",
    "def plot1DS(ax,f,xl,*args):\n",
    "      # fig,ax=plt.subplots(2,2)\n",
    "      # fig.set_size_inches((10,10))\n",
    "      for ii in range(len(args)):\n",
    "        ax[ii,0].plot(f/1e9,abs(args[ii]))\n",
    "        ax[ii,0].set_xlabel(\"Freq (GHz) \")\n",
    "        ax[ii,0].set_ylabel(\" Amplitude \")\n",
    "        ax[ii,0].set_xlim([-xl,xl])\n",
    "\n",
    "        ax[ii,1].plot(f/1e9,180/pi*np.angle(args[ii]))\n",
    "        ax[ii,1].set_xlabel(\" Freq (GHz) \")\n",
    "        ax[ii,1].set_ylabel(\" Amplitude \")\n",
    "        ax[ii,1].set_xlim([-xl,xl])\n",
    "\n",
    "def plot2DSparametric(ax,f,xl,*args):\n",
    "      # fig,ax=plt.subplots(2,2)\n",
    "      # fig.set_size_inches((10,10))\n",
    "      for ii,arg in args:\n",
    "        # print(f.shape)\n",
    "        # print(arg.shape)\n",
    "        ax[ii,0].plot(f/1e9,abs(arg))\n",
    "        ax[ii,0].set_xlabel(\"Freq (GHz) \")\n",
    "        ax[ii,0].set_ylabel(\" Amplitude \")\n",
    "        ax[ii,0].set_xlim([-xl,xl])\n",
    "\n",
    "        ax[ii,1].plot(f/1e9,180/pi*np.angle(arg))\n",
    "        ax[ii,1].set_xlabel(\" Freq (GHz) \")\n",
    "        ax[ii,1].set_ylabel(\" Amplitude \")\n",
    "        ax[ii,1].set_xlim([-xl,xl])\n",
    "def plot1DSparametric(ax,f,xl,*args):\n",
    "      # fig,ax=plt.subplots(2,2)\n",
    "      # fig.set_size_inches((10,10))\n",
    "      for ii,arg in args:\n",
    "        # print(f.shape)\n",
    "        # print(arg.shape)\n",
    "        ax[ii].plot(f/1e9,abs(arg))\n",
    "        ax[ii].set_xlabel(\"Freq (GHz) \")\n",
    "        ax[ii].set_ylabel(\" Amplitude \")\n",
    "        ax[ii].set_xlim([-xl,xl])\n",
    "\n",
    "        ax[ii+1].plot(f/1e9,180/pi*np.angle(arg))\n",
    "        ax[ii+1].set_xlabel(\" Freq (GHz) \")\n",
    "        ax[ii+1].set_ylabel(\" Amplitude \")\n",
    "        ax[ii+1].set_xlim([-xl,xl])\n",
    "\n",
    "#.append(plt.text(x[i], y[i], 'Something'+str(i)))\n",
    "# adjust_text(ts, x=x, y=y, force_points=0.1, arrowprops=dict(arrowstyle='->',\n",
    "# color='red'))\n",
    "#ax[0,0].annotate('Something', xy=(yf['f'][ix], yf['S'][ix]),arrowprops=dict(arrowstyle='->', color='red'))"
   ]
  },
  {
   "cell_type": "code",
   "execution_count": 38,
   "metadata": {
    "id": "MmK3HYfKUcRF"
   },
   "outputs": [],
   "source": [
    "import pandas as pd\n",
    "import numpy as np\n",
    "\n",
    "\n",
    "class SimuParam():\n",
    "\n",
    "    def __init__(self):\n",
    "        self.phyconst=pd.DataFrame( {\"e0\": [8.854223e-12],   #Permissividade absoluta do meio Free space\n",
    "                        \"er1\": [2.2],   #Permissividade relativa do meio 1\n",
    "                        \"u0\": [1.256640e-6],      #Permeabilidade absoluta do meio Free space\n",
    "                        \"u1\": [1],   # Permeabilidade relativa do meio 1\n",
    "                        \"eta0\": [np.sqrt(1.256640e-6/8.854223e-12)],   # Impedancia de Onda Free space\n",
    "                      } ## FFT Points (ODD Number)\n",
    "            )\n",
    "        self.par=pd.DataFrame( {\"Name\": ['HSinP'], \n",
    "                                    \"t0\": [0], # time stamp start\n",
    "                                    \"tf\": [0], # time stamp end\n",
    "                                    \"x0\": [0], # x start point\n",
    "                                    \"xf\": [0],  # x end point\n",
    "                                    \"y0\": [0], # y start point\n",
    "                                    \"yf\": [0],  # y end point\n",
    "                                    \"z0\": [0], # z start point\n",
    "                                    \"zf\": [0],  # z end point                        \n",
    "                                    'f':[0],  # Frequency\n",
    "                                    'Lamb':[0],  # Frequency                        \n",
    "                                    'kx':[0], # Prapagation constant of x-direction \n",
    "                                    'Fx':[0], # Sampling Spatial Frequency of x-direction \n",
    "                                    'ky':[0], # Prapagation constant of y-direction \n",
    "                                    'Fy':[0], # Sampling Spatial Frequency of y-direction \n",
    "                                    'kz':[0], # Prapagation constant of z-direction \n",
    "                                    'Fz':[0], # Sampling Spatial Frequency of z-direction                          \n",
    "                                    \"Nt\": [0],  # Time points\n",
    "                                    \"dt\": [0], # Time Discretization delta\n",
    "                                    \"Nt\": [0],  # Number of Time points\n",
    "                                    \"dx\": [0], #  x Discretization delta\n",
    "                                    \"dy\": [0], #  y Discretization delta\n",
    "                                    \"dz\": [0], #  z Discretization delta\n",
    "                                    \"Fs\": [0], # Sampling Freq Hz\n",
    "                                    \"Nfft\": [0]} ## FFT Points (ODD Number)\n",
    "                                )\n",
    "        self.par.set_index(\"Name\",inplace=True)\n",
    "        self.set_HsinP()\n",
    "        self.set_HsinN()\n",
    "    def set_HsinP(self):\n",
    "       \n",
    "        self.par.loc['HSinP','f']=1e9 # Frequency\n",
    "        self.par.loc['HSinP','Fs']=10*self.par.loc['HSinP','f'] # Sampling Frequency\n",
    "        self.par.loc['HSinP','dt']=1/self.par.loc['HSinP','Fs']# Time Delta\n",
    "              \n",
    "        self.par.loc['HSinP','t0']=0 # Sampling Frequency\n",
    "        self.par.loc['HSinP','tf']=5e-9 # Sampling Frequency\n",
    "        self.par.loc['HSinP','Nt']=len(np.arange(self.par.loc['HSinP','t0'],self.par.loc['HSinP','tf'],self.par.loc['HSinP','dt'])) # x space Points (odd)\n",
    "\n",
    "        self.par.loc['HSinP','Lamb']=1/np.sqrt(self.phyconst['e0'][0]*self.phyconst['u0'][0])/self.par.loc['HSinP','f']# Frequency\n",
    "        self.par.loc['HSinP','kx']=2*np.pi/self.par.loc['HSinP','Lamb'] # Frequency\n",
    "        self.par.loc['HSinP','dx']= self.par.loc['HSinP','Lamb']/20 # x Delta\n",
    "        self.par.loc['HSinP','Fx']= 1/self.par.loc['HSinP','dx']\n",
    "\n",
    "        self.par.loc['HSinP','x0']=-3*self.par.loc['HSinP','Lamb'] # Sampling Frequency\n",
    "        self.par.loc['HSinP','xf']=3*self.par.loc['HSinP','Lamb'] # Sampling Frequency\n",
    "        self.par.loc['HSinP','Nx']=len(np.arange(self.par.loc['HSinP','x0'],self.par.loc['HSinP','xf'],self.par.loc['HSinP','dx'])) # x space Points (odd)\n",
    "\n",
    "    def set_HsinN(self):\n",
    "        self.par.loc['HsinN','f']=1e9 # Frequency\n",
    "        self.par.loc['HsinN','Fs']=10*self.par.loc['HsinN','f'] # Sampling Frequency\n",
    "        self.par.loc['HsinN','dt']=1/self.par.loc['HsinN','Fs']# Time Delta\n",
    "              \n",
    "        self.par.loc['HsinN','t0']=0 # Sampling Frequency\n",
    "        self.par.loc['HsinN','tf']=5e-9 # Sampling Frequency\n",
    "        self.par.loc['HsinN','Nt']=len(np.arange(self.par.loc['HsinN','t0'],self.par.loc['HsinN','tf'],self.par.loc['HsinN','dt'])) # x space Points (odd)\n",
    "\n",
    "        self.par.loc['HsinN','Lamb']=1/np.sqrt(self.phyconst['e0'][0]*self.phyconst['u0'][0])/self.par.loc['HsinN','f']# Frequency\n",
    "        self.par.loc['HsinN','kx']=2*np.pi/self.par.loc['HsinN','Lamb'] # Frequency\n",
    "        self.par.loc['HsinN','dx']= self.par.loc['HsinN','Lamb']/20 # x Delta\n",
    "        self.par.loc['HsinN','Fx']= 1/self.par.loc['HsinN','dx']\n",
    "\n",
    "        self.par.loc['HsinN','x0']=-3*self.par.loc['HsinN','Lamb'] # Sampling Frequency\n",
    "        self.par.loc['HsinN','xf']=3*self.par.loc['HsinN','Lamb'] # Sampling Frequency\n",
    "        self.par.loc['HsinN','Nx']=len(np.arange(self.par.loc['HsinN','x0'],self.par.loc['HsinN','xf'],self.par.loc['HsinN','dx'])) # x space Points (odd)        \n",
    "\n"
   ]
  },
  {
   "cell_type": "code",
   "execution_count": 39,
   "metadata": {},
   "outputs": [
    {
     "name": "stderr",
     "output_type": "stream",
     "text": [
      "C:\\Users\\55919\\AppData\\Local\\Temp\\ipykernel_20804\\3741782080.py:48: FutureWarning: Setting an item of incompatible dtype is deprecated and will raise an error in a future version of pandas. Value '1e-10' has dtype incompatible with int64, please explicitly cast to a compatible dtype first.\n",
      "  self.par.loc['HSinP','dt']=1/self.par.loc['HSinP','Fs']# Time Delta\n",
      "C:\\Users\\55919\\AppData\\Local\\Temp\\ipykernel_20804\\3741782080.py:51: FutureWarning: Setting an item of incompatible dtype is deprecated and will raise an error in a future version of pandas. Value '5e-09' has dtype incompatible with int64, please explicitly cast to a compatible dtype first.\n",
      "  self.par.loc['HSinP','tf']=5e-9 # Sampling Frequency\n",
      "C:\\Users\\55919\\AppData\\Local\\Temp\\ipykernel_20804\\3741782080.py:54: FutureWarning: Setting an item of incompatible dtype is deprecated and will raise an error in a future version of pandas. Value '0.29979151186335773' has dtype incompatible with int64, please explicitly cast to a compatible dtype first.\n",
      "  self.par.loc['HSinP','Lamb']=1/np.sqrt(self.phyconst['e0'][0]*self.phyconst['u0'][0])/self.par.loc['HSinP','f']# Frequency\n",
      "C:\\Users\\55919\\AppData\\Local\\Temp\\ipykernel_20804\\3741782080.py:55: FutureWarning: Setting an item of incompatible dtype is deprecated and will raise an error in a future version of pandas. Value '20.95851636401035' has dtype incompatible with int64, please explicitly cast to a compatible dtype first.\n",
      "  self.par.loc['HSinP','kx']=2*np.pi/self.par.loc['HSinP','Lamb'] # Frequency\n",
      "C:\\Users\\55919\\AppData\\Local\\Temp\\ipykernel_20804\\3741782080.py:56: FutureWarning: Setting an item of incompatible dtype is deprecated and will raise an error in a future version of pandas. Value '0.014989575593167886' has dtype incompatible with int64, please explicitly cast to a compatible dtype first.\n",
      "  self.par.loc['HSinP','dx']= self.par.loc['HSinP','Lamb']/20 # x Delta\n",
      "C:\\Users\\55919\\AppData\\Local\\Temp\\ipykernel_20804\\3741782080.py:57: FutureWarning: Setting an item of incompatible dtype is deprecated and will raise an error in a future version of pandas. Value '66.7130295840925' has dtype incompatible with int64, please explicitly cast to a compatible dtype first.\n",
      "  self.par.loc['HSinP','Fx']= 1/self.par.loc['HSinP','dx']\n",
      "C:\\Users\\55919\\AppData\\Local\\Temp\\ipykernel_20804\\3741782080.py:59: FutureWarning: Setting an item of incompatible dtype is deprecated and will raise an error in a future version of pandas. Value '-0.8993745355900732' has dtype incompatible with int64, please explicitly cast to a compatible dtype first.\n",
      "  self.par.loc['HSinP','x0']=-3*self.par.loc['HSinP','Lamb'] # Sampling Frequency\n",
      "C:\\Users\\55919\\AppData\\Local\\Temp\\ipykernel_20804\\3741782080.py:60: FutureWarning: Setting an item of incompatible dtype is deprecated and will raise an error in a future version of pandas. Value '0.8993745355900732' has dtype incompatible with int64, please explicitly cast to a compatible dtype first.\n",
      "  self.par.loc['HSinP','xf']=3*self.par.loc['HSinP','Lamb'] # Sampling Frequency\n"
     ]
    },
    {
     "data": {
      "text/plain": [
       "Name\n",
       "HSinP    120.0\n",
       "HsinN    120.0\n",
       "Name: Nx, dtype: float64"
      ]
     },
     "execution_count": 39,
     "metadata": {},
     "output_type": "execute_result"
    }
   ],
   "source": [
    "par=SimuParam()\n",
    "par.par['Nx']\n",
    "\n"
   ]
  },
  {
   "cell_type": "code",
   "execution_count": null,
   "metadata": {},
   "outputs": [],
   "source": []
  }
 ],
 "metadata": {
  "colab": {
   "provenance": []
  },
  "kernelspec": {
   "display_name": "base",
   "language": "python",
   "name": "python3"
  },
  "language_info": {
   "codemirror_mode": {
    "name": "ipython",
    "version": 3
   },
   "file_extension": ".py",
   "mimetype": "text/x-python",
   "name": "python",
   "nbconvert_exporter": "python",
   "pygments_lexer": "ipython3",
   "version": "3.12.7"
  }
 },
 "nbformat": 4,
 "nbformat_minor": 0
}
