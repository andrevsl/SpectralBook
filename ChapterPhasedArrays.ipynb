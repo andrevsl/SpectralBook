{
 "cells": [
  {
   "cell_type": "markdown",
   "metadata": {},
   "source": [
    "# Phased Arrays\n",
    "\n",
    "## Introduction\n",
    "\n",
    "Since the discovery of the radio waves by Hertz, many challenges were overcome and evolved to model our wireless systems [1]. However, we may still far from the full capacity that those entities can provide to our society in terms of usage and maybe from new applications not yet ever discovered. In the perspective of the near feature of the massive application of large scale arrays. The spectrum richness that still uncharted, mainly above 100 GHz, it promises to be a valuable outcome for the future communications [2]-[3].\n",
    "This chapter aims to recap physical constraints of the phased arrays systems for massive multiple input multiple output (MIMO) applications.\n",
    "\n"
   ]
  },
  {
   "cell_type": "markdown",
   "metadata": {},
   "source": [
    "## Conventional Phased Arrays\n",
    "\n",
    "Conventional digital/hybrid beamforming architectures are a common solution applied to massive MIMO applications, nevertheless, the tight element spacing as mandatory for wide-band operation of the array requires a higher number of elements, due to a more substantial mutual coupling and element gain limitation [2]-[4]. This may increase the circuit complexity, power consumption, and cost.\n"
   ]
  },
  {
   "cell_type": "markdown",
   "metadata": {},
   "source": [
    "## Scan Reflection coefficient\n",
    "{cite}`PhasedArrBasicKarloBook`\n",
    "Phased array with N elements, the reflection coeficient is given by\n",
    "\n",
    "\\begin{equation}\n",
    "V_k^{+}=A_ke^{-j\\Omega_k}\n",
    "\\end{equation}\n",
    "\n",
    "\\begin{equation}\n",
    "\\Gamma_k=\\frac{V_k^{-}}{V_k^{+}}=\\frac{1}{A_ke^{-j\\Omega_k}}\\sum_{k=1}^{N} S_{kl}A_le^{-j\\Omega_l}\n",
    "\\end{equation}\n",
    "\n",
    "## Scan Impedance\n",
    "REF: A Method for Calculating The Near-Field of A Phased Array Antenna \n",
    "\n",
    "\\begin{equation}\n",
    "Z^{in}_k=\\frac{V_k}{I_{k}}=\\frac{\\sum_{k=1}^{N} Z_{kl}I_le^{-j\\Omega_l}}{I_k}\n",
    "\\end{equation}"
   ]
  }
 ],
 "metadata": {
  "kernelspec": {
   "display_name": "base",
   "language": "python",
   "name": "python3"
  },
  "language_info": {
   "codemirror_mode": {
    "name": "ipython",
    "version": 3
   },
   "file_extension": ".py",
   "mimetype": "text/x-python",
   "name": "python",
   "nbconvert_exporter": "python",
   "pygments_lexer": "ipython3",
   "version": "3.12.7"
  }
 },
 "nbformat": 4,
 "nbformat_minor": 2
}
