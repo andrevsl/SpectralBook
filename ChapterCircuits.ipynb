{
 "cells": [
  {
   "cell_type": "markdown",
   "metadata": {},
   "source": [
    "# Microwave  Circuits\n"
   ]
  },
  {
   "cell_type": "markdown",
   "metadata": {},
   "source": [
    "\n",
    "### 1.1 Components Classification\n",
    "\n",
    "Electrical circuits components can be classified as active and passive components. The active ones provide energy to the network and the passive ones, absorb energy from the network. \n",
    "\n",
    "- Active: Amplifiers, Sources\n",
    "\n",
    "The active circuits can have negative resistance (my case, i have oscilations of motivation ahahhahaha)\n",
    "\n",
    "- Passive : Resistors, Inductors, Capacitors"
   ]
  },
  {
   "cell_type": "markdown",
   "metadata": {},
   "source": [
    "# AC Voltage/Currents\n",
    "\n",
    "What are current and alternating current? By definition and usual temporal analysis, it is a voltage or current signal that alternate its polarity over the time.\n",
    "\n",
    "Correntes positivas: Fluxo de cargas positivas para uma determinada direção. \n",
    "\n",
    "Correntes negativas: Fluxo de cargas negativas para uma determinada direção.\n",
    "\n",
    "\n",
    "Mas geralmente negamos a corrente para indicar que ela flui em sentido oposto em circuitos elétricos básicos (sem convenção fasoriais), certo?  Como podemos explicar tudo isso?\n",
    "Também em circuitos elétricos afirmamos pela convenção da seta, se a seta estiver apontada para a direita, cargas negativas fluirão para a esquerda.\n",
    "\n",
    "![image info](./bookimages/currentconvention.png)\n",
    "\n",
    "Agora analisando a corrente na origem por exemplo, injetando uma corrente alternada, na minha cabeça penso logo como é possível, se a carga positiva uma hora flui para direita, depois para esquerda, as cargas nao saem do lugar ?  \n",
    "\n",
    "![image info](./bookimages/pulsetimespacev2.png)\n",
    "\n",
    "Olhando o diagrama acima, uma corrente alternada de pulsos, considerando que a cada posição x muda o sentido das cargas, as cargas retornam a posição inicial\n",
    "( sera que ta certo o diagrama)\n",
    "\n",
    "$x_2-x_1=$ meio periodo espacial do pulso\n",
    "\n",
    "$t_2-t_1=$ meio periodo temporal do pulso\n",
    "\n",
    "![image info](./bookimages/FlowTLN.png)\n",
    "\n",
    "\n",
    "![image info](./bookimages/TLACFlow2.png)\n",
    "\n",
    "![image info](./bookimages/TLACFlow3.png)\n",
    "\n",
    "![image info](./bookimages/TLACFlow4.png)\n",
    "\n",
    "![image info](./bookimages/TLACFlow5.png)\n",
    "\n",
    "### Calcular as Forças elétricas ao longo do cabo, tem sentido quantico? Qual relação com os campos das ondas eletromagnéticas? Nao existe irradiação a partir de corrente DC pura, só se há variação da corrente no espaço-tempo, ou por meio de corrente alternada? Porque?\n",
    "\n",
    "Muitas dúvidas, não sei explicar, com argumentos bem físicos, o que acontece, só formulação de hipóteses, que precisam ser confirmadas se for o caso, ou refutadas com as referencias, experimentos físicos, etc\n",
    "\n",
    "\n",
    "***Minha opinião raciocínio:*** Pela referência de fase (ou referência de tempo, translação no tempo infere translação de fase), como vimos nas equações de meio ciclo. Nos cicuitos elétricos básicos não fasoriais e circuito CC, as correntes tem a mesma fase sempre, se negada, a oposição de corrente ocorre sempre.\n",
    "\n",
    "Mas o que significa diferença de fase em termos de fluxo de cargas elétricas no tempo e no espaço? Pela referência de fase (ou referência de tempo, translação no tempo infere translação de fase), como vimos nas equações de meio ciclo.\n",
    "\n",
    "Mas o que significa diferença de fase em termos de fluxo de cargas elétricas no tempo e no espaço?\n"
   ]
  },
  {
   "cell_type": "markdown",
   "metadata": {},
   "source": [
    "## RC Filters\n",
    "\n",
    "### RC Load - High Pass Filter\n",
    "\n",
    "### R Load - High Pass Filter\n",
    "\n",
    "\n",
    "### C Load - High Pass Filter"
   ]
  }
 ],
 "metadata": {
  "kernelspec": {
   "display_name": "base",
   "language": "python",
   "name": "python3"
  },
  "language_info": {
   "codemirror_mode": {
    "name": "ipython",
    "version": 3
   },
   "file_extension": ".py",
   "mimetype": "text/x-python",
   "name": "python",
   "nbconvert_exporter": "python",
   "pygments_lexer": "ipython3",
   "version": "3.12.7"
  }
 },
 "nbformat": 4,
 "nbformat_minor": 2
}
