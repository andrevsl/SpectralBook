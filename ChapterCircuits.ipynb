{
 "cells": [
  {
   "cell_type": "markdown",
   "metadata": {},
   "source": [
    "# Electrical  Circuits\n"
   ]
  },
  {
   "cell_type": "markdown",
   "metadata": {},
   "source": [
    "\n",
    "### 1.1 Components Classification\n",
    "\n",
    "Electrical circuits components can be classified as active and passive components. The active ones provide energy to the network and the passive ones, absorb energy from the network. \n",
    "\n",
    "- Active: Amplifiers, Sources\n",
    "\n",
    "The active circuits can have negative resistance (my case, i have oscilations of motivation ahahhahaha)\n",
    "\n",
    "- Passive : Resistors, Inductors, Capacitors"
   ]
  },
  {
   "cell_type": "markdown",
   "metadata": {},
   "source": [
    "# AC Voltage/Currents\n",
    "\n",
    "What are current and alternating current? By definition and usual temporal analysis, it is a voltage or current signal that alternate its polarity over the time. In the spectral Analysis, we've seen that when we have alternate polarities, we eliminate the zero frequency, there is no DC components anymore, we shift the spectrum toward frequencies different of zero, depending on \n",
    "\n",
    "By the convention we have\n",
    "\n",
    "Positive currents: Flow of positive charges in a given direction. \n",
    "\n",
    "Negative currents: Flow of negative charges in a given direction.\n",
    "\n",
    "But we generally negate the current to indicate that it flows in the opposite direction in basic electrical circuits (without phasor conventions), right?  How can we explain all this?\n",
    "Also in electrical circuits we state by the arrow convention, if the arrow is pointed to the right, the negative charges will flow to the left.\n",
    "\n",
    "![image info](./bookimages/currentconvention.png)\n",
    "\n",
    "Now analyzing the current at the origin, for example, injecting an alternating current, in my head I immediately think how it is possible, if the positive charge first flows to the right, then to the left, the charges do not move out of place?\n",
    "\n",
    "![image info](./bookimages/pulsetimespacev2.png)\n",
    "\n",
    "Looking at the diagram above, an alternating current of pulses, considering that at each position x the direction of the charges changes, the charges return to their initial position\n",
    "(I wonder if the diagram is correct)\n",
    "\n",
    "$x_2-x_1=$ meio periodo espacial do pulso\n",
    "\n",
    "$t_2-t_1=$ meio periodo temporal do pulso\n",
    "\n",
    "\n",
    "![image info](./bookimages/FlowTLN.png)\n",
    "\n",
    "\n",
    "![image info](./bookimages/TLACFlow2.png)\n",
    "\n",
    "![image info](./bookimages/TLACFlow3.png)\n",
    "\n",
    "![image info](./bookimages/TLACFlow4.png)\n",
    "\n",
    "![image info](./bookimages/TLACFlow5.png)\n",
    "\n",
    "### Calcular as Forças elétricas ao longo do cabo, tem sentido quantico? Qual relação com os campos das ondas eletromagnéticas? Nao existe irradiação a partir de corrente DC pura, só se há variação da corrente no espaço-tempo, ou por meio de corrente alternada? Porque?\n",
    "\n",
    "Muitas dúvidas, não sei explicar, com argumentos bem físicos, o que acontece, só formulação de hipóteses, que precisam ser confirmadas se for o caso, ou refutadas com as referencias, experimentos físicos, etc\n",
    "\n",
    "***Minha opinião raciocínio:*** Pela referência de fase (ou referência de tempo, translação no tempo infere translação de fase), como vimos nas equações de meio ciclo. Nos cicuitos elétricos básicos não fasoriais e circuito CC, as correntes tem a mesma fase sempre, se negada, a oposição de corrente ocorre sempre.\n",
    "\n",
    "Mas o que significa diferença de fase em termos de fluxo de cargas elétricas no tempo e no espaço? Pela referência de fase (ou referência de tempo, translação no tempo infere translação de fase), como vimos nas equações de meio ciclo.\n",
    "\n",
    "Mas o que significa diferença de fase em termos de fluxo de cargas elétricas no tempo e no espaço?\n"
   ]
  },
  {
   "cell_type": "markdown",
   "metadata": {},
   "source": [
    "## Network Analysis\n",
    "S-parameters are commonly used to analyze newtork dynamics, because it takes into account the foward/backward waves or power travelling into the lines. We gonna see that the foward waves, as we've seen in previous section, it can have positive or negative polarity. Besides, this concept is crucial, because the foward waves that \"really\" carry the usefull power to the load or to the other side of the network. The backward waves yeilds power loss to the network as we gonna see further.\n",
    "\n",
    "<img src=\".\\bookimages\\ChapterCircuits\\Sparameter.png\"\n",
    "    style=\"width: 600px;  height: 400 px;display: block;margin-left: auto;margin-right: auto;\"  />\n",
    "\n",
    "Then, for the voltages, following the Kirchhoff's laws, it is the addition of the foward and backward voltages, because the backward voltage it does not infer a negative voltage polarity, instead, a voltage which is generating a backward wave from the same terminals reference.\n",
    "\n",
    "\\begin{equation}\n",
    "V_1=V_1^{+}+V_1^{-}\n",
    "\\end{equation}\n",
    "\n",
    "On the other side, for the currents, also following the Kirchhoff's laws, it is the substraction of the foward and backward currents, hence a backward current implies direction, also opposite sign, so the negative signal is important, and very mind blowing all that stuff.\n",
    "\n",
    "\\begin{equation}\n",
    "I_1=I_1^{+}-I_1^{-}\n",
    "\\end{equation}\n"
   ]
  },
  {
   "cell_type": "markdown",
   "metadata": {},
   "source": [
    "### S-Parameters \n",
    "For network analysis and, specifically, s-parameters measurements, it is commonly employed using incoming/outcoming waves normalized to a  port reference impedance $Z_0=R_0+jX_0$, called power waves, it caracterizes the power flow, \n",
    "\n",
    "\n",
    "\\begin{align}\n",
    "\n",
    "a_{1}=\\frac{ V_1^{+} }{ \\sqrt{R_0} }=\\frac{V_{1}+Z_0I_{1}}{2\\sqrt{R_0}}  \\\\\n",
    "\n",
    "a_{2}=\\frac{ V_2^{+} }{ \\sqrt{R_0} }=\\frac{V_{1}+Z_0I_{1}}{2\\sqrt{R_0}}\n",
    "\n",
    "\\end{align}\n",
    "\n"
   ]
  },
  {
   "cell_type": "markdown",
   "metadata": {},
   "source": [
    "### Z/Y-Parameters \n",
    "\n",
    "### ABCD-Parameters "
   ]
  },
  {
   "cell_type": "markdown",
   "metadata": {},
   "source": [
    "## RC Filters\n",
    "\n",
    "RC circuits are typical configuration used among many application, for example, antena systems, an small dipole, can be viewed as an RC circuit across some frequency range.\n",
    "\n",
    "### RC Load \n",
    "Considering a 1-port System, where the load is an RC circuit with reference port impedance $Z_0=50$, and load impedance, which is also the input impedance of the system,\n",
    "\n",
    "\\begin{equation}\n",
    "Z_{in}=Z_{L}=R+\\frac{1}{j\\omega C}\n",
    "\\end{equation}\n",
    "Usually in electrical circuits we analyze the voltages ratio, i.e. the transfer fucntion, whih relates the output voltage to the incident voltage. However, it does not consider the reflections occured and the occurence of backward waves. For mirowave system the reflection/trasmission coeficient is commonly used, which in this case for 1-port circuit, it is equal to the $S_{11}$ at the source port,\n",
    "\n",
    "\\begin{equation}\n",
    "S_{11}=\\frac{V^{-}_1}{V^{+}_1}=\\frac{Z_{in}-Z_0}{Z_{in}+Z_0}=\\frac{R+\\frac{1}{j\\omega C}-Z_0}{R+\\frac{1}{j\\omega C}+Z_0}\n",
    "\\end{equation}\n",
    "\n",
    "\n",
    "\\begin{equation}\n",
    "S_{11}=\\frac{1+j\\omega C(R-Z_0)}{1+j\\omega C(R+Z_0)}\n",
    "\\end{equation}\n",
    "\n",
    "We have a pole and a zero, located respectivelly at $\\omega_p=$ and $\\omega_0$\n",
    "\n",
    "\\begin{equation}\n",
    "V_{L}=\\frac{V^{-}}{V^{+}}=\\frac{Z_{in}-Z_0}{Z_{in}+Z_0}=\\frac{R+\\frac{1}{j\\omega C}-Z_0}{R+\\frac{1}{j\\omega C}+Z_0}\n",
    "\\end{equation}\n",
    "\n",
    "\n",
    "\n",
    "\n",
    "\n",
    "We can see that the circuit behaves as a High Pass filter if the resitance is   $R=40 \\Omega$\n",
    "\n",
    "Fig. Parametric Capcitance for fixed resistance of $R=40 \\Omega$\n",
    "<style>\n",
    ".inline{\n",
    "      display: block;\n",
    "      margin-left: auto;\n",
    "      margin-right: auto;\n",
    "}\n",
    "</style>\n",
    "<div  class=\"inline\">\n",
    "<img src=\".\\bookimages\\ChapterCircuits\\RCFilter_RCLoad_Z_R40.png\" \n",
    "    style=\"width: 400px;  height: 400 px; \"  />\n",
    "<img src=\".\\bookimages\\ChapterCircuits\\RCFilter_RCLoad_Sparameters_Res40.png\" \n",
    "    style=\"width: 400px;  height: 400 px; \"  />\n",
    "</div>\n"
   ]
  },
  {
   "cell_type": "markdown",
   "metadata": {},
   "source": [
    "We can see that the circuit behaves as a Low Pass filter small resistances\n",
    "\n",
    "Fig. Parametric Resistance for fixed resistance of $C=1pf$\n",
    "\n",
    "<img src=\".\\bookimages\\ChapterCircuits\\RCFilter_RCLoad_Z_C1pf.png\" \n",
    "    style=\"width: 400px;  height: 400 px;display: \"  />\n",
    "<img src=\".\\bookimages\\ChapterCircuits\\RCFilter_RCLoad_Sparameters_C1pf.png\" \n",
    "    style=\"width: 400px;  height: 400 px;display: \"  />\n",
    "\n",
    "#### Time Domain\n",
    "\n",
    "Considering $V^{+}$ a Gaussian Signal with $\\tau=1/30e9$\n",
    "\n",
    "\\begin{equation}\n",
    "V_{RC}=V^{+}\\frac{Z_{in}}{Z_{in}+Z_0}\n",
    "\\end{equation}\n",
    "\n",
    "\n",
    "Fig. TD for $C=0.001pf$ and $R=1 \\Omega$\n",
    "<img src=\".\\bookimages\\ChapterCircuits\\RCFilter_RCLoad_TD_Res1C0p001pf.png\"\n",
    "    style=\"width: 500px;  height: 400 px;display: block;margin-left: auto;margin-right: auto;\"  />\n",
    "    \n",
    "Fig. TD for $C=1pf$ and $R=0 \\Omega$\n",
    "<img src=\".\\bookimages\\ChapterCircuits\\RCFilter_RCLoad_TD_Res1C1pf.png\"\n",
    "    style=\"width: 500px;  height: 400 px;display: block;margin-left: auto;margin-right: auto;\"  />"
   ]
  },
  {
   "cell_type": "markdown",
   "metadata": {},
   "source": [
    "### R Load - High Pass Filter\n",
    "Considering a 2-port System ( Aqui não sei como fazer, só se já colocar linha de transmissão,pensar)\n",
    "\n",
    "### C Load - Low Pass Filter\n",
    "Considering a 2-port System ( Aqui não sei como fazer, só se já colocar linha de transmissão,pensar)\n"
   ]
  }
 ],
 "metadata": {
  "kernelspec": {
   "display_name": "base",
   "language": "python",
   "name": "python3"
  },
  "language_info": {
   "codemirror_mode": {
    "name": "ipython",
    "version": 3
   },
   "file_extension": ".py",
   "mimetype": "text/x-python",
   "name": "python",
   "nbconvert_exporter": "python",
   "pygments_lexer": "ipython3",
   "version": "3.12.7"
  }
 },
 "nbformat": 4,
 "nbformat_minor": 2
}
