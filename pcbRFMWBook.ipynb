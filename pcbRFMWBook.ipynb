{
 "cells": [
  {
   "cell_type": "markdown",
   "metadata": {},
   "source": [
    "# <b> Welcome to your PCB RF/Photonic Integrated Circuits Book</b>\n",
    "\n",
    "\n",
    "[Colab_Link](https://drive.google.com/file/d/12y1tnL-uvKFW1sLm86MujLTRaO2aWDPZ/view?usp=drive_link)\n",
    "[Jupyter_Book_Version](https://drive.google.com/drive/folders/1FF4UwWtQBWntV10WilrbH_P49nZtNjX-?usp=sharing)\n",
    "[Book_func](https://drive.google.com/drive/folders/18vcEtTFuxsFom8V9ZgnRfmgFxi18YsHQ?usp=sharing)\n",
    "[Book_Folder](https://drive.google.com/drive/folders/1FFwVutA-jbbRQQW1k7NyjFVcLFjJOw2c?usp=sharing)\n",
    "\n",
    "<style>\n",
    "r { color: Red }\n",
    "o { color: Orange }\n",
    "g { color: Green }\n",
    "b { color: blue }\n",
    "o { color: Orange }\n",
    "</style>\n",
    "\n",
    "# <r> **PCB/IC Guidelines References** \n",
    "\n",
    "- Fundamentals of RF/Microwave PCBs (American Standard Circuits)\n",
    "- Process Design Kits no futuro olhar, depois que aprender bem PCB\n",
    "- https://eda.ncsu.edu/freepdk/freepdk45/\n",
    "- https://open-source-pdks.readthedocs.io/en/latest/\n",
    "\n",
    "# <r> **Semiconductors Books and Course** \n",
    "\n",
    "- SDMS: Semiconductor Device Modeling and Simulation using SILVACO:\n",
    "https://nanohub.org/resources/37981\n",
    "- Illinois ECE598XL Semiconductor Nanotechnology\n",
    "- Computational Electronics\n",
    "https://nanohub.org/resources/1500\n",
    "\n",
    "# <r> **PCB Electronics Books and Courses**\n",
    "\n",
    "- https://github.com/jimrains/OpenRIS \n",
    "- https://github.com/mheinri/OpenSourceRIS\n",
    "- Designing, Building, and Characterizing RF\n",
    "Switch-based Reconfigurable Intelligent Surfaces\n",
    "https://arxiv.org/pdf/2207.07121\n",
    "- RF MICROELECTRONICS Second Edition Behzad Razavi\n",
    "- Altium Academy Youtube\n",
    "- https://www.youtube.com/watch?v=PqFtSpAXB9Q (Starting OK)\n",
    "- https://www.youtube.com/watch?v=KpgTud1iQ-4 (Starting)\n",
    "- https://www.youtube.com/watch?v=FVQRi1nBVGc&list=PL3aaAq2OJU5H_V1wJfcxn9RtUf2hs2FU6&index=24\n",
    "- A parte mais difícil, sendo que todas são, tem sido entender a lógica dos circuitos de controle, impedâncias usadas no schematic, pesquisando\n",
    "\n",
    "# <r>  **IC Design** \n",
    "- System Level, Architectural Level, Register-Transfer Level (RTL), Gate-Level, Physical Level\n",
    "- Transistor/Physical Level - Virtuoso\n",
    "- Physical Design : Cadence innovus, Synopsis Fusion Compiler \n",
    "\n",
    "## Ciruito de Controle - PSpice simulations (Duvida do SW, muitos)\n",
    "- Virtuoso and Altium / Alegro/Orcad no futuro?\n",
    "- Startting PSpice simulations LTSpice/altium para ter uma ideia, ainda nao sei qual usar\n",
    "- Varactors circuits\n",
    "- RF Switchs Control\n",
    "- PIN diodes control \n",
    "\n",
    "\n",
    "## RIS PCB home primeiro ou com o Aldebaro, depois PCB Brasil?\n",
    "- Vou comprar uma Raspiberry para mim ou algum fpga eu acho\n",
    "- Analisar tecnica de Medição por Simulação e Lab, emprestar 2 horns do Lab Gervasio\n",
    "- Fazer uma celula unitaria com 1 elemento para medir o controle de fase da RIS\n",
    "- Fazer um grid com 3x3 com 1 oui mais elementos controlados\n",
    "\n",
    "### Altium shortcuts\n",
    "- shift+S desactivate view for all layers\n",
    "- select + space to rotate components\n"
   ]
  },
  {
   "cell_type": "markdown",
   "metadata": {},
   "source": [
    "\n"
   ]
  }
 ],
 "metadata": {
  "kernelspec": {
   "display_name": "base",
   "language": "python",
   "name": "python3"
  },
  "language_info": {
   "codemirror_mode": {
    "name": "ipython",
    "version": 3
   },
   "file_extension": ".py",
   "mimetype": "text/x-python",
   "name": "python",
   "nbconvert_exporter": "python",
   "pygments_lexer": "ipython3",
   "version": "3.12.7"
  }
 },
 "nbformat": 4,
 "nbformat_minor": 2
}
