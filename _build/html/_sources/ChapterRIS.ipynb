{
 "cells": [
  {
   "cell_type": "markdown",
   "metadata": {},
   "source": [
    "# Phased Arrays and RIS  \n",
    "\n",
    "colab: https://drive.google.com/file/d/1G6YjHTOyPRJN96AuBGXPXflwjRYUNFtg/view?usp=sharing\n",
    "\n",
    "\n"
   ]
  },
  {
   "cell_type": "markdown",
   "metadata": {},
   "source": [
    "\n",
    "## Método de Arranjos\n",
    "Os método de arranjos é comumente usado na literatura para analisar arranjos de antenas perfeitos, sem considerar todos os efeitos eletromagnéticos reais, com o intuito de construir diagramas ideais e perfeitos de referência que guiam a modelagem dos arranjos para uma determinada aplicação, com uma determinada técnica de atribuição dos pesos complexos. Por exemplo, a amplitudes e fase dos sinais são modificados pelos amplificadores, defasadores, pelos coeficientes de reflexão complexos dos elementos da RIS. Portanto, a RIS também pode ser vista como um arranjo de antenas, que ao refletir aplica um peso complexo a amplitude do campo elétromagnético da onda incidente.\n",
    "\n",
    "Considerando um arranjo planar distribuido no plano $xy$, com $N_{ZsW}$ elementos em x, com $N_{ZsL}$ elementos em y, \n",
    "\n",
    "\n",
    "Fig. Fazer Figura\n",
    "<!-- \n",
    "<img src=\"https://drive.google.com/a/domain.com/thumbnail?id=18B6Ljysui90jiwX72OlsBrIRbBX9gtQ1&sz=w{500}-h{200}\" style=\"width: 400px;  height: 500 px\"  /> -->\n",
    "\n",
    "<!-- ![image](https://drive.google.com/a/domain.com/thumbnail?id=18B6Ljysui90jiwX72OlsBrIRbBX9gtQ1&sz=w{500}-h{400}) -->\n",
    "\n",
    "\n",
    "O modelo planar do método de arranjo de antenas é dado por\n",
    "\\begin{gather*}\n",
    "\\overline{E}_s=\\sum_{m=1}^{M} \\sum_{n=1}^{N} I_{1m}e^{j(m-1)kd_x \\sin \\theta \\cos \\phi+\\beta_x}\n",
    "                                I_{1n}e^{j(m-1)kd_x \\sin \\theta \\cos \\phi+\\beta_x}\n",
    "\\end{gather*}\n",
    "\n",
    "\n",
    "Sendo que $\\beta_x$ e $\\beta_y$, são a defasagens continuamente aplicadas, respectivamente,  aos elementos ao longo dos eixos $x$ e $y$.\n",
    "Porém se considerarmos coeficiente de reflexão com amplitude e fase variável ao longo de todo os, a defasagem entre elementos vizinhos, podendo não ser necessariamente constante.\n",
    "\n",
    "\\begin{gather*}\n",
    "\\Gamma^{x}_{NM}=A^{x}_{NM} e^{j \\beta_x^{NM}}e^{j \\beta_y^{NM}}\n",
    "\\end{gather*}\n",
    "\n",
    "\\begin{gather*}\n",
    "\\Gamma^{y}_{NM}=A^{y}_{NM} e^{j \\beta_x^{NM}}e^{j \\beta_y^{NM}}\n",
    "\\end{gather*}\n",
    "\n",
    "\n",
    "\n",
    "\n",
    "\\begin{gather*}\n",
    "\\overline{E}_s=\\sum_{m=1}^{M} \\sum_{n=1}^{N} \\Gamma_xe^{j(m-1)kd_x \\sin \\theta \\cos \\phi+\\beta_x}\n",
    "                                \\Gamma_ye^{j(m-1)kd_x \\sin \\theta \\cos \\phi+\\beta_x}\n",
    "\\end{gather*}\n",
    "\n",
    "oss coeficients de reflexão da RIS são"
   ]
  },
  {
   "cell_type": "markdown",
   "metadata": {},
   "source": [
    "## Método do Espaço Livre (Não sei se é/devo colocar)\n",
    "\n"
   ]
  },
  {
   "cell_type": "code",
   "execution_count": 6,
   "metadata": {},
   "outputs": [],
   "source": [
    "# RIS Circuit Models"
   ]
  },
  {
   "cell_type": "markdown",
   "metadata": {},
   "source": [
    "\n"
   ]
  },
  {
   "cell_type": "code",
   "execution_count": 7,
   "metadata": {},
   "outputs": [
    {
     "name": "stderr",
     "output_type": "stream",
     "text": [
      "[NbConvertApp] Converting notebook phasedArraysRIS.ipynb to html\n",
      "[NbConvertApp] Writing 274607 bytes to .\\assets\\phasedArraysRIS.html\n"
     ]
    }
   ],
   "source": [
    "# from importlib.metadata import version\n",
    "# version('nbformat')\n",
    "!jupyter nbconvert --output-dir='.\\assets'   --to html phasedArraysRIS.ipynb  "
   ]
  },
  {
   "cell_type": "code",
   "execution_count": null,
   "metadata": {},
   "outputs": [],
   "source": []
  }
 ],
 "metadata": {
  "kernelspec": {
   "display_name": "base",
   "language": "python",
   "name": "python3"
  },
  "language_info": {
   "codemirror_mode": {
    "name": "ipython",
    "version": 3
   },
   "file_extension": ".py",
   "mimetype": "text/x-python",
   "name": "python",
   "nbconvert_exporter": "python",
   "pygments_lexer": "ipython3",
   "version": "3.12.7"
  }
 },
 "nbformat": 4,
 "nbformat_minor": 2
}
