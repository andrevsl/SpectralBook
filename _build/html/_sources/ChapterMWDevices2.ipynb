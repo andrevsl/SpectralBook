{
 "cells": [
  {
   "cell_type": "markdown",
   "metadata": {},
   "source": [
    "# Application to PCB Microwave Devices II: Amplifiers and Oscilators\n",
    "\n",
    "Colab: https://drive.google.com/file/d/1NkFJRtvAhLxQXU83n7l5Q3QMF3Y872lA/view?usp=sharing\n",
    "\n",
    "I will try to use MoM/CST FDTD and Matlab tool boxes for RF/Electrical circuits/Control Systems\n"
   ]
  },
  {
   "cell_type": "markdown",
   "metadata": {},
   "source": [
    "## 1 Introduction \n",
    "\n",
    "Antenna design is an important part of the development of  many electronic devices and for new generations of mobiles telecommunications systems. Mobility and comfort are some advantages that wireless communications provide to society. Different techniques for antenna optimization are used in literature, however, sometimes without translate and interpret physically some basic principles for researchers and engineers. These insights can be essential and very useful in antenna design, giving many degrees of freedom to antenna engineer and researchers to optimize their structures. We aim to build an overview of some approaches that can help antennas engineer in the optimization and physical understanding.    \n",
    "\n",
    "The antenna can be viewed by three perspectives in accordance with [1]-[3]. Firstly, as a transducer that couple electric power into radiated electromagnetic energy. Secondly as an electric circuit element, a powerful tool and maybe the preferred for the most radiofrequency (RF) engineers, aided especially by smith charts and transmission line theory [3]. And finally by electromagnetic (EM) view, where the field’s distribution should comply with Maxwell’s equations. In this context, metasurfaces and transformation optics techniques that control EM’s signatures efficiently have been widely employed after Pendry [4] and Leonhardt [5] disclosure of the electromagnetic cloak.\n",
    "\n",
    "On the other hand, solving analytically complex electromagnetic problems can be laborious. Computational techniques as Finite Element Method (FEM), Finite Difference Time Doman (FDTD) and Integral Methods are preferred to simplify and accelerate the analysis in the design process [2],[6]-[7]. Generally, commercial software provides built-in optimization algorithms as interpolated quasi newton, particle swarm, and genetic algorithm [8]-[9]. However, it works well for fine-tune mostly, being the initial concept and design still dependent on the physical basis of the researches and antenna engineers.\n",
    "\n",
    "\n",
    "\n",
    "\n",
    "### 1.2 Justification\n",
    "   In the literature we will commonly find the time analysis using narrow band signals. However wide band signals can provide a richer time-space-frequency resolution from the time motion of the current. Using Full Wave simulations of the transmission lines and waveguides, we will try to analyse practical application of the time domain analysis."
   ]
  },
  {
   "cell_type": "markdown",
   "metadata": {},
   "source": [
    "\n",
    "\n",
    "\n"
   ]
  }
 ],
 "metadata": {
  "kernelspec": {
   "display_name": "base",
   "language": "python",
   "name": "python3"
  },
  "language_info": {
   "codemirror_mode": {
    "name": "ipython",
    "version": 3
   },
   "file_extension": ".py",
   "mimetype": "text/x-python",
   "name": "python",
   "nbconvert_exporter": "python",
   "pygments_lexer": "ipython3",
   "version": "3.12.7"
  }
 },
 "nbformat": 4,
 "nbformat_minor": 2
}
