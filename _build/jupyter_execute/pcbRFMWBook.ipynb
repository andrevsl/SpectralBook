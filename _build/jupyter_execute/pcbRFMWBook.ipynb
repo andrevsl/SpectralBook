{
 "cells": [
  {
   "cell_type": "markdown",
   "metadata": {},
   "source": [
    "# Welcome to your PCB RF/Photonic Integrated Circuits Book\n",
    "\n",
    "\n",
    "[Colab_Link](https://drive.google.com/file/d/12y1tnL-uvKFW1sLm86MujLTRaO2aWDPZ/view?usp=drive_link)\n",
    "[Jupyter_Book_Version](https://drive.google.com/drive/folders/1FF4UwWtQBWntV10WilrbH_P49nZtNjX-?usp=sharing)\n",
    "[Book_func](https://drive.google.com/drive/folders/18vcEtTFuxsFom8V9ZgnRfmgFxi18YsHQ?usp=sharing)\n",
    "[Book_Folder](https://drive.google.com/drive/folders/1FFwVutA-jbbRQQW1k7NyjFVcLFjJOw2c?usp=sharing)\n",
    "\n",
    "<style>\n",
    "r { color: Red }\n",
    "o { color: Orange }\n",
    "g { color: Green }\n",
    "o { color: Orange }\n",
    "</style>\n",
    "\n",
    "# <r> **PCB Guidelines References** \n",
    "\n",
    "- Fundamentals of RF/Microwave PCBs (American Standard Circuits)\n",
    "\n",
    "# <r> **PCB Electronics Books and Courses**\n",
    "\n",
    "- RF MICROELECTRONICS Second Edition Behzad Razavi\n",
    "- Altium Academy Youtube\n",
    "- https://www.youtube.com/watch?v=KpgTud1iQ-4\n",
    "\n",
    "# <r> **Semiconductors Books and Course** \n",
    "\n",
    "- SDMS: Semiconductor Device Modeling and Simulation using SILVACO:\n",
    "https://nanohub.org/resources/37981\n",
    "- Illinois ECE598XL Semiconductor Nanotechnology\n",
    "- Computational Electronics\n",
    "https://nanohub.org/resources/1500\n",
    "\n",
    "\n",
    "## <r> **Application to PCB Integrated Circuits I: Filters and Phase Shifters** \n",
    "\n",
    "- Design with CST/ADS/Altium/Kikad \n",
    "\n",
    "## <r> **Application to PCB Integrated Circuits II: Ampllifiers and Oscillators** \n",
    "\n",
    "- Design with CST/ADS/Altium/Kikad \n",
    "\n",
    "## <r> **Application to Optical/Photonic Integrated Circuits I**\n",
    "\n",
    "## <r> **Application to Optical/Photonic Integrated Circuits II**\n",
    "\n",
    "## <r> **Application to Optical/Photonic Integrated Circuits III**\n"
   ]
  },
  {
   "cell_type": "markdown",
   "metadata": {},
   "source": [
    "\n"
   ]
  },
  {
   "cell_type": "code",
   "execution_count": null,
   "metadata": {},
   "outputs": [],
   "source": []
  }
 ],
 "metadata": {
  "kernelspec": {
   "display_name": "base",
   "language": "python",
   "name": "python3"
  },
  "language_info": {
   "codemirror_mode": {
    "name": "ipython",
    "version": 3
   },
   "file_extension": ".py",
   "mimetype": "text/x-python",
   "name": "python",
   "nbconvert_exporter": "python",
   "pygments_lexer": "ipython3",
   "version": "3.8.20"
  }
 },
 "nbformat": 4,
 "nbformat_minor": 2
}