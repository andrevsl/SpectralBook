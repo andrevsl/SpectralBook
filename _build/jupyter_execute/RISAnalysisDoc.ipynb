{
 "cells": [
  {
   "cell_type": "markdown",
   "metadata": {},
   "source": [
    "# Metasuperfícies e Teoria RIS\n",
    "\n",
    "colab: https://drive.google.com/file/d/1G6YjHTOyPRJN96AuBGXPXflwjRYUNFtg/view?usp=sharing\n",
    "\n",
    "- Definições\n",
    "- Justificativa\n",
    "- Applicações\n",
    "\n",
    "\n",
    "\n"
   ]
  },
  {
   "cell_type": "markdown",
   "metadata": {},
   "source": [
    "# RIS  "
   ]
  },
  {
   "cell_type": "markdown",
   "metadata": {},
   "source": [
    "\n",
    "## Método de Arranjos\n",
    "Os método de arranjos é comumente usado na literatura para analisar arranjos de antenas perfeitos, sem considerar todos os efeitos eletromagnéticos reais, com o intuito de construir diagramas ideais e perfeitos de referência que guiam a modelagem dos arranjos para uma determinada aplicação, com uma determinada técnica de atribuição dos pesos complexos. Por exemplo, a amplitudes e fase dos sinais são modificados pelos amplificadores, defasadores, pelos coeficientes de reflexão complexos dos elementos da RIS. Portanto, a RIS também pode ser vista como um arranjo de antenas, que ao refletir aplica um peso complexo a amplitude do campo elétromagnético da onda incidente.\n",
    "\n",
    "Considerando um arranjo planar distribuido no plano $xy$, com $N_{ZsW}$ elementos em x, com $N_{ZsL}$ elementos em y, \n",
    "\n",
    "\n",
    "Fig. Fazer Figura\n",
    "<!-- \n",
    "<img src=\"https://drive.google.com/a/domain.com/thumbnail?id=18B6Ljysui90jiwX72OlsBrIRbBX9gtQ1&sz=w{500}-h{200}\" style=\"width: 400px;  height: 500 px\"  /> -->\n",
    "\n",
    "<!-- ![image](https://drive.google.com/a/domain.com/thumbnail?id=18B6Ljysui90jiwX72OlsBrIRbBX9gtQ1&sz=w{500}-h{400}) -->\n",
    "\n",
    "\n",
    "O modelo planar do método de arranjo de antenas clássico {cite}`balanisAntenna` é dado por\n",
    "\\begin{gather*}\n",
    "\\overline{E}_s=\\sum_{m=1}^{M} \\sum_{n=1}^{N} I_{1m}e^{j(m-1)kd_x \\sin \\theta \\cos \\phi+\\Omega_x}\n",
    "                                I_{1n}e^{j(m-1)kd_x \\sin \\theta \\cos \\phi+\\Omega_x}\n",
    "\\end{gather*}\n",
    "\n",
    "\n",
    "Sendo que $\\beta_x$ e $\\beta_y$, são a defasagens continuamente aplicadas, respectivamente,  aos elementos ao longo dos eixos $x$ e $y$.\n",
    "Porém se considerarmos coeficiente de reflexão com amplitude e fase variável ao longo de todo os, a defasagem entre elementos vizinhos, podendo não ser necessariamente constante. O coeficients de reflexão da RIS paras as duas polarizações\n",
    "\n",
    "\\begin{gather*}\n",
    "\\Gamma^{x}_{NM}=A^{x}_{NM} e^{j \\Omega^x_{NM}}e^{j \\Omega^y_{NM}}\n",
    "\\end{gather*}\n",
    "\n",
    "\\begin{gather*}\n",
    "\\Gamma^{y}_{NM}=A^{y}_{NM} e^{j \\Omega^x_{NM}}e^{j \\Omega^y_{NM}}\n",
    "\\end{gather*}\n",
    "\n",
    "O coefiente englobando o efeito das duas componentes,\n",
    "\n",
    "\\begin{gather*}\n",
    "\\Gamma_{NM}=\\Gamma^{x}_{NM}\\Gamma^{y}_{NM}=A_{NM} e^{j \\Omega^x_{NM}}e^{j \\Omega^y_{NM}}\n",
    "\\end{gather*}\n",
    "\n",
    "\n",
    "Logo, considerando a RIS de referência, o campo incidente sendo unitário e em phase sobre toda a superfície \n",
    "\\begin{gather*}\n",
    "\\overline{E}_s=\\sum_{m=1}^{M} \\sum_{n=1}^{N} A_{NM}e^{j(m-1)kd_x \\sin \\theta \\cos \\phi+\\Omega_{NM}^x}\n",
    "                                e^{j(m-1)kd_x \\sin \\theta \\cos \\phi+\\Omega_{NM}^y}\n",
    "\\end{gather*}\n",
    "\n"
   ]
  },
  {
   "cell_type": "markdown",
   "metadata": {},
   "source": [
    "## Método do Espaço Livre (Não sei se é/devo colocar na Quali)"
   ]
  },
  {
   "cell_type": "markdown",
   "metadata": {},
   "source": [
    "## RIS Modelagem por Circuito Elétricos (Não sei se é/devo colocar na Quali)\n",
    "- Construindo os codigos do Livro e de base da Analise\n"
   ]
  },
  {
   "cell_type": "markdown",
   "metadata": {},
   "source": [
    "## Estudo do cicuito de Controle dos Varactors (Depois ou antes da Quali se conseguir)\n",
    "\n",
    "- MPLAB para os chip microchip, e a analog devices tem os spice models dos CIs\n",
    "- Outros fabricantes muito dificil achar\n",
    "- Tentando reproduzir o controle dos varactors no MPLAB"
   ]
  },
  {
   "cell_type": "markdown",
   "metadata": {},
   "source": [
    "## Tecnica de Medição RIS (Depois ou antes da Quali se conseguir)\n",
    "\n",
    "- SIMU 2 cornetas lado/lado versus espaçamento (Anlisar S21 e Decaimento do Campo no Ambiente) \n",
    "- SIMU 2 cornetas lado/lado versus inclinação (Anlisar S21 e Decaimento do Campo no Ambiente) \n",
    "- SIMU 2 cornetas lado/lado com objetos metalicos no ambiente (Anlisar S21 e Decaimento do Campo no Ambiente))\n",
    "- SIMU 2 cornetas lado/lado com um placa metalica de diferentes areas (Anlisar S21 e Decaimento do Campo no Ambiente) "
   ]
  },
  {
   "cell_type": "code",
   "execution_count": null,
   "metadata": {},
   "outputs": [],
   "source": []
  },
  {
   "cell_type": "markdown",
   "metadata": {},
   "source": [
    "\n"
   ]
  },
  {
   "cell_type": "code",
   "execution_count": 1,
   "metadata": {},
   "outputs": [
    {
     "name": "stderr",
     "output_type": "stream",
     "text": [
      "Traceback (most recent call last):\n",
      "  File \"<frozen runpy>\", line 198, in _run_module_as_main\n",
      "  File \"<frozen runpy>\", line 88, in _run_code\n",
      "  File \"C:\\Users\\55919\\anaconda3\\Scripts\\jupyter-nbconvert.EXE\\__main__.py\", line 4, in <module>\n",
      "  File \"C:\\Users\\55919\\anaconda3\\Lib\\site-packages\\nbconvert\\__init__.py\", line 4, in <module>\n",
      "    from .exporters import *\n",
      "  File \"C:\\Users\\55919\\anaconda3\\Lib\\site-packages\\nbconvert\\exporters\\__init__.py\", line 3, in <module>\n",
      "    from .html import HTMLExporter\n",
      "  File \"C:\\Users\\55919\\anaconda3\\Lib\\site-packages\\nbconvert\\exporters\\html.py\", line 12, in <module>\n",
      "    from jinja2 import contextfilter\n",
      "ImportError: cannot import name 'contextfilter' from 'jinja2' (C:\\Users\\55919\\anaconda3\\Lib\\site-packages\\jinja2\\__init__.py)\n"
     ]
    }
   ],
   "source": [
    "# from importlib.metadata import version\n",
    "# version('nbformat')\n",
    "!jupyter nbconvert --output-dir='.\\assets'   --to html phasedArraysRIS.ipynb  "
   ]
  },
  {
   "cell_type": "code",
   "execution_count": null,
   "metadata": {},
   "outputs": [],
   "source": []
  }
 ],
 "metadata": {
  "kernelspec": {
   "display_name": "base",
   "language": "python",
   "name": "python3"
  },
  "language_info": {
   "codemirror_mode": {
    "name": "ipython",
    "version": 3
   },
   "file_extension": ".py",
   "mimetype": "text/x-python",
   "name": "python",
   "nbconvert_exporter": "python",
   "pygments_lexer": "ipython3",
   "version": "3.12.7"
  }
 },
 "nbformat": 4,
 "nbformat_minor": 2
}