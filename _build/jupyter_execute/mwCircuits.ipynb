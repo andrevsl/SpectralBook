{
 "cells": [
  {
   "cell_type": "markdown",
   "metadata": {},
   "source": [
    "# Microwave  Circuits\n",
    "\n",
    "Collab: https://drive.google.com/file/d/186cQ-leDyDpDGfLVsOqFmRGBX7PyZWrB/view?usp=sharing\n",
    "\n",
    "I will try to use MoM/CST FDTD and Matlab tool boxes for RF/Electrical circuits/Control Systems\n",
    "\n",
    "\n"
   ]
  },
  {
   "cell_type": "markdown",
   "metadata": {},
   "source": [
    "## 1 General Overview\n",
    "  **Electrical circuits are topological networks, topology in mathematical concept, which studies the space properties invariance under continous deformation. We have an arrangement of nodes, and edges, where the disposition does not matter, but the interaction. Will it matter in the electromagnetic circuits? (Or still topological). The electromagnetic propeties will change? The voltages, currents remain unchangeable if you stretch the transmission lines, what does justifies the topological idea of the electromagnetism.The symmetry operations?**\n",
    "    \n",
    "  Electric circuits are the basic representation of the electromagnetic circuits, being both the same, which the concerned metrics are Voltages and Currents. In Electromagnetic countepart we add the beauties of the electromagnetic fields as main metrics.\n",
    "\n",
    "Graph theory helps to visualize and decribe the interconexions, as well as, to optimize this circuits, the telecommunication and computer science steal the ideas (Circuitos Elétricos 2). \n",
    "\n",
    "\n",
    "### 1.1 Components Classification\n",
    "\n",
    "Electrical circuits components can be classified as active and passive components. The active ones provide energy to the network and the passive ones, absorb energy from the network. \n",
    "\n",
    "- Active: Amplifiers, Sources\n",
    "\n",
    "The active circuits can have negative resistance (my case, i have oscilations of motivation ahahhahaha)\n",
    "\n",
    "- Passive : Resistors, Inductors, Capacitors"
   ]
  },
  {
   "cell_type": "markdown",
   "metadata": {},
   "source": [
    "\n",
    "### 1.2 Justification\n",
    "   In the literature we will commonly find the time analysis using narrow band signals. However wide band signals can provide a richer resolution from the time motion of the current. Using FDTD simulations transmission lines and waveguides, we will try to analyse pratical application o time domain analysis.\n",
    "\n"
   ]
  },
  {
   "cell_type": "markdown",
   "metadata": {},
   "source": [
    "# 3 AC & DC Voltage/Currents\n",
    "\n",
    "# To be simulated in the future Power Cables ( I will do only RF case for Electrical Components)\n",
    "\n",
    "Correntes positivas: Fluxo de cargas positivas para uma determinada direção. \n",
    "\n",
    "Correntes negativas: Fluxo de cargas negativas para uma determinada direção.\n",
    "\n",
    "\n",
    "Mas geralmente negamos a corrente para indicar que ela flui em sentido oposto em circuitos elétricos básicos (sem convenção fasoriais), certo?  Como podemos explicar tudo isso?\n",
    "Também em circuitos elétricos afirmamos pela convenção da seta, se a seta estiver apontada para a direita, cargas negativas fluirão para a esquerda.\n",
    "\n",
    "![image info](./bookimages/currentconvention.png)\n",
    "\n",
    "Agora analisando a corrente na origem por exemplo, injetando uma corrente alternada, na minha cabeça penso logo como é possível, se a carga positiva uma hora flui para direita, depois para esquerda, as cargas nao saem do lugar ?  \n",
    "\n",
    "![image info](./bookimages/pulsetimespacev2.png)\n",
    "\n",
    "Olhando o diagrama acima, uma corrente alternada de pulsos, considerando que a cada posição x muda o sentido das cargas, as cargas retornam a posição inicial\n",
    "( sera que ta certo o diagrama)\n",
    "\n",
    "$x_2-x_1=$ meio periodo espacial do pulso\n",
    "\n",
    "$t_2-t_1=$ meio periodo temporal do pulso\n",
    "\n",
    "![image info](./bookimages/FlowTLN.png)\n",
    "\n",
    "\n",
    "![image info](./bookimages/TLACFlow2.png)\n",
    "\n",
    "![image info](./bookimages/TLACFlow3.png)\n",
    "\n",
    "![image info](./bookimages/TLACFlow4.png)\n",
    "\n",
    "![image info](./bookimages/TLACFlow5.png)\n",
    "\n",
    "### Calcular as Forças elétricas ao longo do cabo, tem sentido quantico? Qual relação com os campos das ondas eletromagnéticas? Nao existe irradiação a partir de corrente DC pura, só se há variação da corrente no espaço-tempo, ou por meio de corrente alternada? Porque?\n",
    "\n",
    "Muitas dúvidas, não sei explicar, com argumentos bem físicos, o que acontece, só formulação de hipóteses, que precisam ser confirmadas se for o caso, ou refutadas com as referencias, experimentos físicos, etc\n",
    "\n",
    "\n",
    "***Minha opinião raciocínio:*** Pela referência de fase (ou referência de tempo, translação no tempo infere translação de fase), como vimos nas equações de meio ciclo. Nos cicuitos elétricos básicos não fasoriais e circuito CC, as correntes tem a mesma fase sempre, se negada, a oposição de corrente ocorre sempre.\n",
    "\n",
    "Mas o que significa diferença de fase em termos de fluxo de cargas elétricas no tempo e no espaço? Pela referência de fase (ou referência de tempo, translação no tempo infere translação de fase), como vimos nas equações de meio ciclo.\n",
    "\n",
    "Mas o que significa diferença de fase em termos de fluxo de cargas elétricas no tempo e no espaço?\n"
   ]
  },
  {
   "cell_type": "markdown",
   "metadata": {},
   "source": [
    "\n",
    "Resistors</li></h1>\n",
    "  If we have a current time signal passing through a resistor or a resistive transmission line. In this case a Gaussian Pulse, \n",
    "  $i(t)=\\frac{e^{}}{}$\n",
    "\n",
    "\n",
    "  $V=R I$\n",
    "\n",
    "\n",
    "  </div>\n",
    "</html>"
   ]
  },
  {
   "cell_type": "markdown",
   "metadata": {},
   "source": [
    "## Wave Voltage/Currents\n",
    "\n",
    "\n",
    "## 3.1 Definition"
   ]
  },
  {
   "cell_type": "code",
   "execution_count": null,
   "metadata": {},
   "outputs": [],
   "source": []
  },
  {
   "cell_type": "markdown",
   "metadata": {},
   "source": [
    "## 4  Microstrip Lines\n",
    "\n",
    "## 5  Fiber (or Coax Cable) "
   ]
  },
  {
   "cell_type": "markdown",
   "metadata": {},
   "source": [
    "## 6  Resistive Trasmission Lines\n"
   ]
  },
  {
   "cell_type": "markdown",
   "metadata": {},
   "source": [
    "\n",
    "\n",
    "## 7  Resistive Trasmission Lines\n",
    "\n",
    "Negative Resistance? What is the effect of the negative resistance (souce of alternating current)\n",
    "\n",
    "$V=RI$"
   ]
  },
  {
   "cell_type": "markdown",
   "metadata": {},
   "source": [
    "## 5 Inductors\n",
    "In microwave, the transmission lines are generally mainly inductive in nature, unless we found some discontinuity or proximity effects which cause parasitic impedances. In electrical circuits you can choose work with Voltages or Currents, due to its duality. As diferentiation operations are less complex than integration, it is suitable work with currents while dealing with inductors. Then, if we have a current time signal passing through an inductor following the\n",
    "\n",
    "$$V=L\\frac{dI}{dt}$$\n",
    "\n",
    "As we studied in spectral analysis chapter. If a signal is differentiated, we insert a zero at the zero frquency, and we force the signal to have a phase inversion, as also explained by control systems, DSP and network synthesis (digital filters ). We add 90 degrees of phase for the halfs/one cycle sin case,  it's possible to see the phase diferrence of 90 Degrees.\n",
    "\n",
    "Let's dive into RF Lines Simulations"
   ]
  },
  {
   "cell_type": "code",
   "execution_count": 1,
   "metadata": {},
   "outputs": [
    {
     "ename": "ModuleNotFoundError",
     "evalue": "No module named 'schemdraw'",
     "output_type": "error",
     "traceback": [
      "\u001b[1;31m---------------------------------------------------------------------------\u001b[0m",
      "\u001b[1;31mModuleNotFoundError\u001b[0m                       Traceback (most recent call last)",
      "Cell \u001b[1;32mIn[1], line 1\u001b[0m\n\u001b[1;32m----> 1\u001b[0m \u001b[38;5;28;01mimport\u001b[39;00m \u001b[38;5;21;01mschemdraw\u001b[39;00m\n\u001b[0;32m      2\u001b[0m \u001b[38;5;28;01mimport\u001b[39;00m \u001b[38;5;21;01mschemdraw\u001b[39;00m\u001b[38;5;21;01m.\u001b[39;00m\u001b[38;5;21;01melements\u001b[39;00m \u001b[38;5;28;01mas\u001b[39;00m \u001b[38;5;21;01melm\u001b[39;00m\n\u001b[0;32m      3\u001b[0m elm\u001b[38;5;241m.\u001b[39mstyle(elm\u001b[38;5;241m.\u001b[39mSTYLE_IEC)\n",
      "\u001b[1;31mModuleNotFoundError\u001b[0m: No module named 'schemdraw'"
     ]
    }
   ],
   "source": [
    "import schemdraw\n",
    "import schemdraw.elements as elm\n",
    "elm.style(elm.STYLE_IEC)\n",
    "with schemdraw.Drawing():\n",
    "    elm.Resistor().label('Z0')\n",
    "    # elm.Capacitor().down().label('0.1μF', loc='bottom')\n",
    "    elm.SourceV().down().label('Gaussian')\n",
    "    elm.Line().left()\n",
    "    elm.Ground()\n",
    "    elm.SourceV().up().label('Gaussian')\n"
   ]
  },
  {
   "cell_type": "markdown",
   "metadata": {},
   "source": [
    "\n",
    "\n"
   ]
  },
  {
   "cell_type": "markdown",
   "metadata": {},
   "source": [
    "### 2.4 Capacitor\n",
    "\n",
    "\n",
    "$i=C \\frac{dV}{dt}$\n",
    "\n",
    "### 2.5 Amplifiers\n",
    "{}\n",
    "\n",
    "## 3. Frequency Domain Response (You have to  make the cross information among different REF, EASY BUCKET)\n",
    "**I will try to analyze the poles/zeros in terms of Inductance/capacitance aided by the foster theorem, predict the behaviour of Filters(TL,Antennas) and circuits, only analyzing the frequency response, the enginneers will get easy bucket, to fine tune/optimize their electronic circuits, in my LOVE case, and because it's unavoidable the Love Power, but responsibly (it is the work of the electronic engineers), Love would do amazing things with AI**\n",
    "**\n",
    "\n",
    "## 3.1 Foster Circuits\n",
    "\n",
    "\n",
    "## 3.2 Non-Foster Circuits\n",
    "\n",
    "## 4. Time Domain Reponse ( I don't find it in any book)\n",
    "\n",
    "Only analyzing the time signals, you can have an insight about the frequency response of the signals, losses, resistance/capacitance/inductance regions/shapes in electronics/electromagnetic circuits (Time signals Analysis first). But it is best in frequency domain, but your capacitance can be seen as inductance depending of the analysis point, phase reference is very important.\n",
    "\n",
    "\n",
    "Pode ser utilizado talvez em linhas de transmissao longas de alta tensão, transformadores, hidrogeradores, sistemas de controle (diria mais que o controle ta inserido como materia base como o electromagnetismo, controle é a base de Machine learning, a algebra, tecnicas de otimização que usam na computação, qe por sinal sao un nightmare hahahahha bixo os algoritmos sao muito escrotos hahahahhah na minha opinião), ja deve ser utilizado, nao conheço, em fibra otica bastante pelos tecnicos de instalação. \n",
    "O pessoal da energia vai falar de banco de indutores, por isso eu nao sei nada em energia, sei que tem banco de capacitores para reativo, do resto não sei nada, li, mas nao aprendi que é escroto, uns negocios de sequencia positiva e negativa de curto circuito"
   ]
  },
  {
   "cell_type": "code",
   "execution_count": 1,
   "metadata": {},
   "outputs": [
    {
     "name": "stderr",
     "output_type": "stream",
     "text": [
      "[NbConvertApp] Converting notebook electricalCircuits.ipynb to html\n",
      "[NbConvertApp] Writing 281224 bytes to .\\assets\\electricalCircuits.html\n"
     ]
    }
   ],
   "source": [
    "# from importlib.metadata import version\n",
    "# version('nbformat')\n",
    "!jupyter nbconvert --output-dir='.\\assets'   --to html electricalCircuits.ipynb  "
   ]
  },
  {
   "cell_type": "code",
   "execution_count": null,
   "metadata": {},
   "outputs": [],
   "source": []
  }
 ],
 "metadata": {
  "kernelspec": {
   "display_name": "base",
   "language": "python",
   "name": "python3"
  },
  "language_info": {
   "codemirror_mode": {
    "name": "ipython",
    "version": 3
   },
   "file_extension": ".py",
   "mimetype": "text/x-python",
   "name": "python",
   "nbconvert_exporter": "python",
   "pygments_lexer": "ipython3",
   "version": "3.8.20"
  }
 },
 "nbformat": 4,
 "nbformat_minor": 2
}