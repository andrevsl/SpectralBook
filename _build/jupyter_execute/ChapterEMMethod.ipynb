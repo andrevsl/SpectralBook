{
 "cells": [
  {
   "cell_type": "markdown",
   "metadata": {},
   "source": [
    "# Electromagnetic Spectral Methods\n",
    "\n",
    "Colab: https://drive.google.com/file/d/1NoK-qxDeQQHBQMwHkCy_m95f2T_u8bRL/view?usp=sharing\n",
    "\n",
    "I will try to use MoM/CST FDTD and Matlab tool boxes for RF/Electrical circuits/Control Systems\n"
   ]
  },
  {
   "cell_type": "markdown",
   "metadata": {},
   "source": [
    "## Introduction \n",
    "\n",
    "## Plane Wave Spectrum\n",
    "\n",
    "\n",
    "\n",
    "## Dyadic Green Spectral Form\n"
   ]
  },
  {
   "cell_type": "markdown",
   "metadata": {},
   "source": [
    "\n",
    "\n",
    "\n"
   ]
  }
 ],
 "metadata": {
  "kernelspec": {
   "display_name": "base",
   "language": "python",
   "name": "python3"
  },
  "language_info": {
   "codemirror_mode": {
    "name": "ipython",
    "version": 3
   },
   "file_extension": ".py",
   "mimetype": "text/x-python",
   "name": "python",
   "nbconvert_exporter": "python",
   "pygments_lexer": "ipython3",
   "version": "3.12.7"
  }
 },
 "nbformat": 4,
 "nbformat_minor": 2
}